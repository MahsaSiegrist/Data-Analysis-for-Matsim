{
 "cells": [
  {
   "cell_type": "markdown",
   "metadata": {},
   "source": [
    "evaluating mode choice for SBB"
   ]
  },
  {
   "cell_type": "code",
   "execution_count": 1,
   "metadata": {},
   "outputs": [],
   "source": [
    "# libraries\n",
    "import pandas as pd\n",
    "import numpy as np\n",
    "import matplotlib.pyplot as plt\n",
    "import seaborn as sns\n",
    "from functools import reduce"
   ]
  },
  {
   "cell_type": "code",
   "execution_count": 2,
   "metadata": {
    "scrolled": true
   },
   "outputs": [],
   "source": [
    "# read text files \n",
    "\n",
    "df_benchmark = pd.read_csv(\"run-id.EOD.tripModeAnalysis_.csv\", sep=\";\", error_bad_lines=False, index_col =None)\n",
    "df_zero = pd.read_csv(\"run-id_Zero.tripModeAnalysis_.csv\", sep=\";\", error_bad_lines=False, index_col =None)\n",
    "df_current = pd.read_csv(\"run-id_current.tripModeAnalysis_.csv\", sep=\";\", error_bad_lines=False, index_col =None)\n",
    "df_reactive = pd.read_csv(\"run-id_reactive.tripModeAnalysis_.csv\", sep=\";\", error_bad_lines=False, index_col =None)\n",
    "df_equilibrium = pd.read_csv(\"run-id.EWD.tripModeAnalysis_.csv\", sep=\";\", error_bad_lines=False, index_col =None)\n",
    "#df_lineTen_ca = pd.read_csv(\"bInputPA_SBB_project_lineTen_ca05.28.ScorePerActivityPerLegDetailed.csv\", sep=\";\", error_bad_lines=False, index_col =None)\n",
    "df_line11 = pd.read_csv(\"run-id_line11.tripModeAnalysis_.csv\", sep=\";\", error_bad_lines=False, index_col =None)\n",
    "\n",
    "df_IncCap_20 = pd.read_csv(\"run-id_incCap_20_WD_.tripModeAnalysis_.csv\", sep=\";\", error_bad_lines=False, index_col =None)\n",
    "df_IncCap_20_equi = pd.read_csv(\"run-id.20.equi.tripModeAnalysis_.csv\", sep=\";\", error_bad_lines=False, index_col =None)\n",
    "\n",
    "#df_EOD_20 = pd.read_csv(\"bInputPA_EOD_20%_equi08.17.ScorePerActivityPerLegDetailed.csv\", sep=\";\", error_bad_lines=False, index_col =None)\n",
    "#df_EOD_100 = pd.read_csv(\"bInputPA_EOD_100%_equi08.17.ScorePerActivityPerLegDetailed.csv\", sep=\";\", error_bad_lines=False, index_col =None)\n",
    "\n",
    "df_IncCap = pd.read_csv(\"run-id_incCap_100_WD_.tripModeAnalysis_.csv\", sep=\";\", error_bad_lines=False, index_col =None)\n",
    "df_IncCap_100_equi = pd.read_csv(\"run-id.100.wd.equ.tripModeAnalysis_.csv\", sep=\";\", error_bad_lines=False, index_col =None)\n",
    "\n",
    "#line11_after4\n",
    "#df_IncCap_wD_100_equi = pd.read_csv(\"bInputPA_SBB_project_line11_after406.10.ScorePerActivityPerLegDetailed.csv\", sep=\";\", error_bad_lines=False, index_col =None)\n",
    "#line11_after4 = pd.read_csv(\"line11_after4.person_info_all_transport_modes.csv\", sep=\";\", error_bad_lines=False, index_col =None)\n",
    "\n",
    "\n",
    "\n",
    "#line11\n",
    "#df_IncCap_WD_20_equi = pd.read_csv(\"bInputPA_SBB_project_line11_WD_06.10.ScorePerActivityPerLegDetailed.csv\", sep=\";\", error_bad_lines=False, index_col =None)\n",
    "\n"
   ]
  },
  {
   "cell_type": "code",
   "execution_count": 3,
   "metadata": {},
   "outputs": [
    {
     "data": {
      "text/html": [
       "<div>\n",
       "<style scoped>\n",
       "    .dataframe tbody tr th:only-of-type {\n",
       "        vertical-align: middle;\n",
       "    }\n",
       "\n",
       "    .dataframe tbody tr th {\n",
       "        vertical-align: top;\n",
       "    }\n",
       "\n",
       "    .dataframe thead th {\n",
       "        text-align: right;\n",
       "    }\n",
       "</style>\n",
       "<table border=\"1\" class=\"dataframe\">\n",
       "  <thead>\n",
       "    <tr style=\"text-align: right;\">\n",
       "      <th></th>\n",
       "      <th>mode</th>\n",
       "      <th>number of trips</th>\n",
       "      <th>trip share</th>\n",
       "    </tr>\n",
       "  </thead>\n",
       "  <tbody>\n",
       "    <tr>\n",
       "      <td>0</td>\n",
       "      <td>car</td>\n",
       "      <td>15446</td>\n",
       "      <td>0.329030</td>\n",
       "    </tr>\n",
       "    <tr>\n",
       "      <td>1</td>\n",
       "      <td>transit_walk</td>\n",
       "      <td>17072</td>\n",
       "      <td>0.363667</td>\n",
       "    </tr>\n",
       "    <tr>\n",
       "      <td>2</td>\n",
       "      <td>walk</td>\n",
       "      <td>12937</td>\n",
       "      <td>0.275584</td>\n",
       "    </tr>\n",
       "    <tr>\n",
       "      <td>3</td>\n",
       "      <td>bike</td>\n",
       "      <td>1489</td>\n",
       "      <td>0.031719</td>\n",
       "    </tr>\n",
       "  </tbody>\n",
       "</table>\n",
       "</div>"
      ],
      "text/plain": [
       "          mode    number of trips    trip share \n",
       "0           car              15446      0.329030\n",
       "1  transit_walk              17072      0.363667\n",
       "2          walk              12937      0.275584\n",
       "3          bike               1489      0.031719"
      ]
     },
     "execution_count": 3,
     "metadata": {},
     "output_type": "execute_result"
    }
   ],
   "source": [
    "df_benchmark.head()"
   ]
  },
  {
   "cell_type": "code",
   "execution_count": 4,
   "metadata": {},
   "outputs": [
    {
     "data": {
      "text/plain": [
       "RangeIndex(start=0, stop=4, step=1)"
      ]
     },
     "execution_count": 4,
     "metadata": {},
     "output_type": "execute_result"
    }
   ],
   "source": [
    "df_benchmark.index"
   ]
  },
  {
   "cell_type": "code",
   "execution_count": 5,
   "metadata": {},
   "outputs": [
    {
     "data": {
      "text/plain": [
       "Index(['mode ', ' number of trips ', ' trip share '], dtype='object')"
      ]
     },
     "execution_count": 5,
     "metadata": {},
     "output_type": "execute_result"
    }
   ],
   "source": [
    "df_benchmark.columns"
   ]
  },
  {
   "cell_type": "code",
   "execution_count": 6,
   "metadata": {},
   "outputs": [
    {
     "name": "stdout",
     "output_type": "stream",
     "text": [
      "None\n"
     ]
    }
   ],
   "source": [
    "print(df_benchmark.index.name)"
   ]
  },
  {
   "cell_type": "code",
   "execution_count": 7,
   "metadata": {},
   "outputs": [
    {
     "data": {
      "text/plain": [
       "RangeIndex(start=0, stop=4, step=1)"
      ]
     },
     "execution_count": 7,
     "metadata": {},
     "output_type": "execute_result"
    }
   ],
   "source": [
    "df_benchmark.index"
   ]
  },
  {
   "cell_type": "code",
   "execution_count": 8,
   "metadata": {},
   "outputs": [
    {
     "name": "stdout",
     "output_type": "stream",
     "text": [
      " this dataframe has a size of 4\n"
     ]
    },
    {
     "data": {
      "text/html": [
       "<div>\n",
       "<style scoped>\n",
       "    .dataframe tbody tr th:only-of-type {\n",
       "        vertical-align: middle;\n",
       "    }\n",
       "\n",
       "    .dataframe tbody tr th {\n",
       "        vertical-align: top;\n",
       "    }\n",
       "\n",
       "    .dataframe thead th {\n",
       "        text-align: right;\n",
       "    }\n",
       "</style>\n",
       "<table border=\"1\" class=\"dataframe\">\n",
       "  <thead>\n",
       "    <tr style=\"text-align: right;\">\n",
       "      <th></th>\n",
       "      <th>mode</th>\n",
       "      <th>number of trips</th>\n",
       "      <th>trip share</th>\n",
       "    </tr>\n",
       "  </thead>\n",
       "  <tbody>\n",
       "    <tr>\n",
       "      <td>0</td>\n",
       "      <td>car</td>\n",
       "      <td>15446</td>\n",
       "      <td>0.329030</td>\n",
       "    </tr>\n",
       "    <tr>\n",
       "      <td>1</td>\n",
       "      <td>transit_walk</td>\n",
       "      <td>17072</td>\n",
       "      <td>0.363667</td>\n",
       "    </tr>\n",
       "    <tr>\n",
       "      <td>2</td>\n",
       "      <td>walk</td>\n",
       "      <td>12937</td>\n",
       "      <td>0.275584</td>\n",
       "    </tr>\n",
       "    <tr>\n",
       "      <td>3</td>\n",
       "      <td>bike</td>\n",
       "      <td>1489</td>\n",
       "      <td>0.031719</td>\n",
       "    </tr>\n",
       "  </tbody>\n",
       "</table>\n",
       "</div>"
      ],
      "text/plain": [
       "          mode    number of trips    trip share \n",
       "0           car              15446      0.329030\n",
       "1  transit_walk              17072      0.363667\n",
       "2          walk              12937      0.275584\n",
       "3          bike               1489      0.031719"
      ]
     },
     "execution_count": 8,
     "metadata": {},
     "output_type": "execute_result"
    }
   ],
   "source": [
    "print (\" this dataframe has a size of {}\".format(len(df_benchmark)))\n",
    "df_benchmark.head()"
   ]
  },
  {
   "cell_type": "code",
   "execution_count": 9,
   "metadata": {},
   "outputs": [
    {
     "data": {
      "text/html": [
       "<div>\n",
       "<style scoped>\n",
       "    .dataframe tbody tr th:only-of-type {\n",
       "        vertical-align: middle;\n",
       "    }\n",
       "\n",
       "    .dataframe tbody tr th {\n",
       "        vertical-align: top;\n",
       "    }\n",
       "\n",
       "    .dataframe thead th {\n",
       "        text-align: right;\n",
       "    }\n",
       "</style>\n",
       "<table border=\"1\" class=\"dataframe\">\n",
       "  <thead>\n",
       "    <tr style=\"text-align: right;\">\n",
       "      <th></th>\n",
       "      <th>mode</th>\n",
       "      <th>number of trips</th>\n",
       "      <th>trip share</th>\n",
       "    </tr>\n",
       "  </thead>\n",
       "  <tbody>\n",
       "    <tr>\n",
       "      <td>0</td>\n",
       "      <td>car</td>\n",
       "      <td>15446</td>\n",
       "      <td>0.329030</td>\n",
       "    </tr>\n",
       "    <tr>\n",
       "      <td>1</td>\n",
       "      <td>transit_walk</td>\n",
       "      <td>17072</td>\n",
       "      <td>0.363667</td>\n",
       "    </tr>\n",
       "    <tr>\n",
       "      <td>2</td>\n",
       "      <td>walk</td>\n",
       "      <td>12937</td>\n",
       "      <td>0.275584</td>\n",
       "    </tr>\n",
       "    <tr>\n",
       "      <td>3</td>\n",
       "      <td>bike</td>\n",
       "      <td>1489</td>\n",
       "      <td>0.031719</td>\n",
       "    </tr>\n",
       "  </tbody>\n",
       "</table>\n",
       "</div>"
      ],
      "text/plain": [
       "          mode    number of trips    trip share \n",
       "0           car              15446      0.329030\n",
       "1  transit_walk              17072      0.363667\n",
       "2          walk              12937      0.275584\n",
       "3          bike               1489      0.031719"
      ]
     },
     "execution_count": 9,
     "metadata": {},
     "output_type": "execute_result"
    }
   ],
   "source": [
    "df_zero.head()"
   ]
  },
  {
   "cell_type": "code",
   "execution_count": 10,
   "metadata": {},
   "outputs": [
    {
     "data": {
      "text/html": [
       "<div>\n",
       "<style scoped>\n",
       "    .dataframe tbody tr th:only-of-type {\n",
       "        vertical-align: middle;\n",
       "    }\n",
       "\n",
       "    .dataframe tbody tr th {\n",
       "        vertical-align: top;\n",
       "    }\n",
       "\n",
       "    .dataframe thead th {\n",
       "        text-align: right;\n",
       "    }\n",
       "</style>\n",
       "<table border=\"1\" class=\"dataframe\">\n",
       "  <thead>\n",
       "    <tr style=\"text-align: right;\">\n",
       "      <th></th>\n",
       "      <th>mode</th>\n",
       "      <th>number of trips</th>\n",
       "      <th>trip share</th>\n",
       "    </tr>\n",
       "  </thead>\n",
       "  <tbody>\n",
       "    <tr>\n",
       "      <td>0</td>\n",
       "      <td>car</td>\n",
       "      <td>15446</td>\n",
       "      <td>0.329030</td>\n",
       "    </tr>\n",
       "    <tr>\n",
       "      <td>1</td>\n",
       "      <td>transit_walk</td>\n",
       "      <td>17072</td>\n",
       "      <td>0.363667</td>\n",
       "    </tr>\n",
       "    <tr>\n",
       "      <td>2</td>\n",
       "      <td>walk</td>\n",
       "      <td>12937</td>\n",
       "      <td>0.275584</td>\n",
       "    </tr>\n",
       "    <tr>\n",
       "      <td>3</td>\n",
       "      <td>bike</td>\n",
       "      <td>1489</td>\n",
       "      <td>0.031719</td>\n",
       "    </tr>\n",
       "  </tbody>\n",
       "</table>\n",
       "</div>"
      ],
      "text/plain": [
       "          mode    number of trips    trip share \n",
       "0           car              15446      0.329030\n",
       "1  transit_walk              17072      0.363667\n",
       "2          walk              12937      0.275584\n",
       "3          bike               1489      0.031719"
      ]
     },
     "execution_count": 10,
     "metadata": {},
     "output_type": "execute_result"
    }
   ],
   "source": [
    "df_current.head()"
   ]
  },
  {
   "cell_type": "code",
   "execution_count": 11,
   "metadata": {},
   "outputs": [],
   "source": [
    "df_benchmark= df_benchmark[[\"mode \",\" number of trips \"]]\n",
    "df_zero= df_zero[[\"mode \",\" number of trips \"]]\n",
    "df_current= df_current[[\"mode \",\" number of trips \"]]\n",
    "df_reactive= df_reactive[[\"mode \",\" number of trips \"]]\n",
    "df_equilibrium= df_equilibrium[[\"mode \",\" number of trips \"]]\n",
    "#df_lineTen_ca= df_lineTen_ca[[\"person Id\",\"trip no.\",\"mode\",\"travel time (trip) [sec]\"]]\n",
    "df_line11= df_line11[[\"mode \",\" number of trips \"]]\n",
    "df_IncCap_20= df_IncCap_20[[\"mode \",\" number of trips \"]]\n",
    "df_IncCap_20_equi= df_IncCap_20_equi[[\"mode \",\" number of trips \"]]\n",
    "df_IncCap= df_IncCap[[\"mode \",\" number of trips \"]]\n",
    "df_IncCap_100_equi= df_IncCap_100_equi[[\"mode \",\" number of trips \"]]"
   ]
  },
  {
   "cell_type": "code",
   "execution_count": 12,
   "metadata": {},
   "outputs": [],
   "source": [
    "#df_lineTen_ca,\n",
    "for scenario in [df_benchmark,df_zero,df_current,df_reactive,df_equilibrium,\n",
    "                 df_line11,df_IncCap_20,df_IncCap_20_equi,df_IncCap,df_IncCap_100_equi]:\n",
    "        #scenario[\"person Id\"].astype(str)\n",
    "        #scenario.drop(scenario[~scenario[\"person Id\"].str.isdigit()].index, inplace=True)\n",
    "        scenario.rename(columns={'mode ':'mode', ' number of trips ':'number of trips'},inplace=True)\n",
    "        #scenario.reset_index(drop=True, inplace = True)"
   ]
  },
  {
   "cell_type": "code",
   "execution_count": 13,
   "metadata": {},
   "outputs": [
    {
     "data": {
      "text/html": [
       "<div>\n",
       "<style scoped>\n",
       "    .dataframe tbody tr th:only-of-type {\n",
       "        vertical-align: middle;\n",
       "    }\n",
       "\n",
       "    .dataframe tbody tr th {\n",
       "        vertical-align: top;\n",
       "    }\n",
       "\n",
       "    .dataframe thead th {\n",
       "        text-align: right;\n",
       "    }\n",
       "</style>\n",
       "<table border=\"1\" class=\"dataframe\">\n",
       "  <thead>\n",
       "    <tr style=\"text-align: right;\">\n",
       "      <th></th>\n",
       "      <th>mode</th>\n",
       "      <th>number of trips</th>\n",
       "    </tr>\n",
       "  </thead>\n",
       "  <tbody>\n",
       "    <tr>\n",
       "      <td>0</td>\n",
       "      <td>car</td>\n",
       "      <td>15446</td>\n",
       "    </tr>\n",
       "    <tr>\n",
       "      <td>1</td>\n",
       "      <td>transit_walk</td>\n",
       "      <td>17072</td>\n",
       "    </tr>\n",
       "    <tr>\n",
       "      <td>2</td>\n",
       "      <td>walk</td>\n",
       "      <td>12937</td>\n",
       "    </tr>\n",
       "  </tbody>\n",
       "</table>\n",
       "</div>"
      ],
      "text/plain": [
       "           mode  number of trips\n",
       "0           car            15446\n",
       "1  transit_walk            17072\n",
       "2          walk            12937"
      ]
     },
     "execution_count": 13,
     "metadata": {},
     "output_type": "execute_result"
    }
   ],
   "source": [
    "df_benchmark.head(3)"
   ]
  },
  {
   "cell_type": "code",
   "execution_count": 14,
   "metadata": {},
   "outputs": [
    {
     "data": {
      "text/html": [
       "<div>\n",
       "<style scoped>\n",
       "    .dataframe tbody tr th:only-of-type {\n",
       "        vertical-align: middle;\n",
       "    }\n",
       "\n",
       "    .dataframe tbody tr th {\n",
       "        vertical-align: top;\n",
       "    }\n",
       "\n",
       "    .dataframe thead th {\n",
       "        text-align: right;\n",
       "    }\n",
       "</style>\n",
       "<table border=\"1\" class=\"dataframe\">\n",
       "  <thead>\n",
       "    <tr style=\"text-align: right;\">\n",
       "      <th></th>\n",
       "      <th>mode</th>\n",
       "      <th>number of trips_EOD</th>\n",
       "    </tr>\n",
       "  </thead>\n",
       "  <tbody>\n",
       "    <tr>\n",
       "      <td>0</td>\n",
       "      <td>car</td>\n",
       "      <td>15446</td>\n",
       "    </tr>\n",
       "    <tr>\n",
       "      <td>1</td>\n",
       "      <td>transit_walk</td>\n",
       "      <td>17072</td>\n",
       "    </tr>\n",
       "    <tr>\n",
       "      <td>2</td>\n",
       "      <td>walk</td>\n",
       "      <td>12937</td>\n",
       "    </tr>\n",
       "    <tr>\n",
       "      <td>3</td>\n",
       "      <td>bike</td>\n",
       "      <td>1489</td>\n",
       "    </tr>\n",
       "  </tbody>\n",
       "</table>\n",
       "</div>"
      ],
      "text/plain": [
       "           mode  number of trips_EOD\n",
       "0           car                15446\n",
       "1  transit_walk                17072\n",
       "2          walk                12937\n",
       "3          bike                 1489"
      ]
     },
     "execution_count": 14,
     "metadata": {},
     "output_type": "execute_result"
    }
   ],
   "source": [
    "#df_benchmark = df_benchmark[df_benchmark[\"personId\"].isin(desired_person_ID)].reset_index(drop=True)\n",
    "df_benchmark = df_benchmark.add_suffix(\"_EOD\").rename(columns={\"mode_EOD\": \"mode\"})\n",
    "df_benchmark.head()"
   ]
  },
  {
   "cell_type": "code",
   "execution_count": 15,
   "metadata": {},
   "outputs": [
    {
     "data": {
      "text/html": [
       "<div>\n",
       "<style scoped>\n",
       "    .dataframe tbody tr th:only-of-type {\n",
       "        vertical-align: middle;\n",
       "    }\n",
       "\n",
       "    .dataframe tbody tr th {\n",
       "        vertical-align: top;\n",
       "    }\n",
       "\n",
       "    .dataframe thead th {\n",
       "        text-align: right;\n",
       "    }\n",
       "</style>\n",
       "<table border=\"1\" class=\"dataframe\">\n",
       "  <thead>\n",
       "    <tr style=\"text-align: right;\">\n",
       "      <th></th>\n",
       "      <th>mode</th>\n",
       "      <th>number of trips_start of disruption</th>\n",
       "    </tr>\n",
       "  </thead>\n",
       "  <tbody>\n",
       "    <tr>\n",
       "      <td>0</td>\n",
       "      <td>car</td>\n",
       "      <td>15446</td>\n",
       "    </tr>\n",
       "    <tr>\n",
       "      <td>1</td>\n",
       "      <td>transit_walk</td>\n",
       "      <td>17072</td>\n",
       "    </tr>\n",
       "    <tr>\n",
       "      <td>2</td>\n",
       "      <td>walk</td>\n",
       "      <td>12937</td>\n",
       "    </tr>\n",
       "    <tr>\n",
       "      <td>3</td>\n",
       "      <td>bike</td>\n",
       "      <td>1489</td>\n",
       "    </tr>\n",
       "  </tbody>\n",
       "</table>\n",
       "</div>"
      ],
      "text/plain": [
       "           mode  number of trips_start of disruption\n",
       "0           car                                15446\n",
       "1  transit_walk                                17072\n",
       "2          walk                                12937\n",
       "3          bike                                 1489"
      ]
     },
     "execution_count": 15,
     "metadata": {},
     "output_type": "execute_result"
    }
   ],
   "source": [
    "#df_reactive = df_reactive[df_reactive[\"personId\"].isin(desired_person_ID)].reset_index(drop=True)\n",
    "df_reactive = df_reactive.add_suffix(\"_start of disruption\").rename(columns={\"mode_start of disruption\": \"mode\"})\n",
    "df_reactive.head()"
   ]
  },
  {
   "cell_type": "code",
   "execution_count": 16,
   "metadata": {},
   "outputs": [
    {
     "data": {
      "text/html": [
       "<div>\n",
       "<style scoped>\n",
       "    .dataframe tbody tr th:only-of-type {\n",
       "        vertical-align: middle;\n",
       "    }\n",
       "\n",
       "    .dataframe tbody tr th {\n",
       "        vertical-align: top;\n",
       "    }\n",
       "\n",
       "    .dataframe thead th {\n",
       "        text-align: right;\n",
       "    }\n",
       "</style>\n",
       "<table border=\"1\" class=\"dataframe\">\n",
       "  <thead>\n",
       "    <tr style=\"text-align: right;\">\n",
       "      <th></th>\n",
       "      <th>mode</th>\n",
       "      <th>number of trips_IncCap</th>\n",
       "    </tr>\n",
       "  </thead>\n",
       "  <tbody>\n",
       "    <tr>\n",
       "      <td>0</td>\n",
       "      <td>car</td>\n",
       "      <td>14340</td>\n",
       "    </tr>\n",
       "    <tr>\n",
       "      <td>1</td>\n",
       "      <td>transit_walk</td>\n",
       "      <td>17958</td>\n",
       "    </tr>\n",
       "    <tr>\n",
       "      <td>2</td>\n",
       "      <td>walk</td>\n",
       "      <td>13700</td>\n",
       "    </tr>\n",
       "    <tr>\n",
       "      <td>3</td>\n",
       "      <td>bike</td>\n",
       "      <td>946</td>\n",
       "    </tr>\n",
       "  </tbody>\n",
       "</table>\n",
       "</div>"
      ],
      "text/plain": [
       "           mode  number of trips_IncCap\n",
       "0           car                   14340\n",
       "1  transit_walk                   17958\n",
       "2          walk                   13700\n",
       "3          bike                     946"
      ]
     },
     "execution_count": 16,
     "metadata": {},
     "output_type": "execute_result"
    }
   ],
   "source": [
    "#df_IncCap = df_IncCap[df_IncCap[\"personId\"].isin(desired_person_ID)].reset_index(drop=True)\n",
    "df_IncCap = df_IncCap.add_suffix(\"_IncCap\").rename(columns={\"mode_IncCap\": \"mode\"})\n",
    "df_IncCap.head()"
   ]
  },
  {
   "cell_type": "code",
   "execution_count": 17,
   "metadata": {},
   "outputs": [
    {
     "data": {
      "text/html": [
       "<div>\n",
       "<style scoped>\n",
       "    .dataframe tbody tr th:only-of-type {\n",
       "        vertical-align: middle;\n",
       "    }\n",
       "\n",
       "    .dataframe tbody tr th {\n",
       "        vertical-align: top;\n",
       "    }\n",
       "\n",
       "    .dataframe thead th {\n",
       "        text-align: right;\n",
       "    }\n",
       "</style>\n",
       "<table border=\"1\" class=\"dataframe\">\n",
       "  <thead>\n",
       "    <tr style=\"text-align: right;\">\n",
       "      <th></th>\n",
       "      <th>mode</th>\n",
       "      <th>number of trips_IncCap_100_equi</th>\n",
       "    </tr>\n",
       "  </thead>\n",
       "  <tbody>\n",
       "    <tr>\n",
       "      <td>0</td>\n",
       "      <td>car</td>\n",
       "      <td>14042</td>\n",
       "    </tr>\n",
       "    <tr>\n",
       "      <td>1</td>\n",
       "      <td>transit_walk</td>\n",
       "      <td>18754</td>\n",
       "    </tr>\n",
       "    <tr>\n",
       "      <td>2</td>\n",
       "      <td>walk</td>\n",
       "      <td>12850</td>\n",
       "    </tr>\n",
       "    <tr>\n",
       "      <td>3</td>\n",
       "      <td>bike</td>\n",
       "      <td>1298</td>\n",
       "    </tr>\n",
       "  </tbody>\n",
       "</table>\n",
       "</div>"
      ],
      "text/plain": [
       "           mode  number of trips_IncCap_100_equi\n",
       "0           car                            14042\n",
       "1  transit_walk                            18754\n",
       "2          walk                            12850\n",
       "3          bike                             1298"
      ]
     },
     "execution_count": 17,
     "metadata": {},
     "output_type": "execute_result"
    }
   ],
   "source": [
    "#df_IncCap_100_equi = df_IncCap_100_equi[df_IncCap_100_equi[\"personId\"].isin(desired_person_ID)].reset_index(drop=True)\n",
    "df_IncCap_100_equi = df_IncCap_100_equi.add_suffix(\"_IncCap_100_equi\").rename(columns={\"mode_IncCap_100_equi\": \"mode\"})\n",
    "df_IncCap_100_equi.head()"
   ]
  },
  {
   "cell_type": "markdown",
   "metadata": {},
   "source": [
    "#df_line11_after4 = df_line11_after4[df_line11_after4[\"personId\"].isin(desired_person_ID)].reset_index(drop=True)\n",
    "df_line11_after4 = df_line11_after4.add_suffix(\"_line11_after4\").rename(columns={\"person Id_line11_after4\": \"personId\"})\n",
    "df_line11_after4.head()"
   ]
  },
  {
   "cell_type": "code",
   "execution_count": 18,
   "metadata": {},
   "outputs": [
    {
     "data": {
      "text/html": [
       "<div>\n",
       "<style scoped>\n",
       "    .dataframe tbody tr th:only-of-type {\n",
       "        vertical-align: middle;\n",
       "    }\n",
       "\n",
       "    .dataframe tbody tr th {\n",
       "        vertical-align: top;\n",
       "    }\n",
       "\n",
       "    .dataframe thead th {\n",
       "        text-align: right;\n",
       "    }\n",
       "</style>\n",
       "<table border=\"1\" class=\"dataframe\">\n",
       "  <thead>\n",
       "    <tr style=\"text-align: right;\">\n",
       "      <th></th>\n",
       "      <th>mode</th>\n",
       "      <th>number of trips_line11</th>\n",
       "    </tr>\n",
       "  </thead>\n",
       "  <tbody>\n",
       "    <tr>\n",
       "      <td>0</td>\n",
       "      <td>car</td>\n",
       "      <td>14340</td>\n",
       "    </tr>\n",
       "    <tr>\n",
       "      <td>1</td>\n",
       "      <td>transit_walk</td>\n",
       "      <td>17958</td>\n",
       "    </tr>\n",
       "    <tr>\n",
       "      <td>2</td>\n",
       "      <td>walk</td>\n",
       "      <td>13700</td>\n",
       "    </tr>\n",
       "    <tr>\n",
       "      <td>3</td>\n",
       "      <td>bike</td>\n",
       "      <td>946</td>\n",
       "    </tr>\n",
       "  </tbody>\n",
       "</table>\n",
       "</div>"
      ],
      "text/plain": [
       "           mode  number of trips_line11\n",
       "0           car                   14340\n",
       "1  transit_walk                   17958\n",
       "2          walk                   13700\n",
       "3          bike                     946"
      ]
     },
     "execution_count": 18,
     "metadata": {},
     "output_type": "execute_result"
    }
   ],
   "source": [
    "#df_line11_after4 = df_line11_after4[df_line11_after4[\"personId\"].isin(desired_person_ID)].reset_index(drop=True)\n",
    "df_line11= df_line11.add_suffix(\"_line11\").rename(columns={\"mode_line11\": \"mode\"})\n",
    "df_line11.head()"
   ]
  },
  {
   "cell_type": "code",
   "execution_count": 19,
   "metadata": {},
   "outputs": [
    {
     "data": {
      "text/html": [
       "<div>\n",
       "<style scoped>\n",
       "    .dataframe tbody tr th:only-of-type {\n",
       "        vertical-align: middle;\n",
       "    }\n",
       "\n",
       "    .dataframe tbody tr th {\n",
       "        vertical-align: top;\n",
       "    }\n",
       "\n",
       "    .dataframe thead th {\n",
       "        text-align: right;\n",
       "    }\n",
       "</style>\n",
       "<table border=\"1\" class=\"dataframe\">\n",
       "  <thead>\n",
       "    <tr style=\"text-align: right;\">\n",
       "      <th></th>\n",
       "      <th>mode</th>\n",
       "      <th>number of trips_EWD</th>\n",
       "    </tr>\n",
       "  </thead>\n",
       "  <tbody>\n",
       "    <tr>\n",
       "      <td>0</td>\n",
       "      <td>car</td>\n",
       "      <td>15486</td>\n",
       "    </tr>\n",
       "    <tr>\n",
       "      <td>1</td>\n",
       "      <td>transit_walk</td>\n",
       "      <td>16983</td>\n",
       "    </tr>\n",
       "    <tr>\n",
       "      <td>2</td>\n",
       "      <td>walk</td>\n",
       "      <td>12981</td>\n",
       "    </tr>\n",
       "    <tr>\n",
       "      <td>3</td>\n",
       "      <td>bike</td>\n",
       "      <td>1494</td>\n",
       "    </tr>\n",
       "  </tbody>\n",
       "</table>\n",
       "</div>"
      ],
      "text/plain": [
       "           mode  number of trips_EWD\n",
       "0           car                15486\n",
       "1  transit_walk                16983\n",
       "2          walk                12981\n",
       "3          bike                 1494"
      ]
     },
     "execution_count": 19,
     "metadata": {},
     "output_type": "execute_result"
    }
   ],
   "source": [
    "#df_equilibrium = df_equilibrium[df_equilibrium[\"personId\"].isin(desired_person_ID)].reset_index(drop=True)\n",
    "df_equilibrium = df_equilibrium.add_suffix(\"_EWD\").rename(columns={\"mode_EWD\": \"mode\"})\n",
    "df_equilibrium.head()"
   ]
  },
  {
   "cell_type": "code",
   "execution_count": 20,
   "metadata": {},
   "outputs": [
    {
     "data": {
      "text/html": [
       "<div>\n",
       "<style scoped>\n",
       "    .dataframe tbody tr th:only-of-type {\n",
       "        vertical-align: middle;\n",
       "    }\n",
       "\n",
       "    .dataframe tbody tr th {\n",
       "        vertical-align: top;\n",
       "    }\n",
       "\n",
       "    .dataframe thead th {\n",
       "        text-align: right;\n",
       "    }\n",
       "</style>\n",
       "<table border=\"1\" class=\"dataframe\">\n",
       "  <thead>\n",
       "    <tr style=\"text-align: right;\">\n",
       "      <th></th>\n",
       "      <th>mode</th>\n",
       "      <th>number of trips_start of trip</th>\n",
       "    </tr>\n",
       "  </thead>\n",
       "  <tbody>\n",
       "    <tr>\n",
       "      <td>0</td>\n",
       "      <td>car</td>\n",
       "      <td>15446</td>\n",
       "    </tr>\n",
       "    <tr>\n",
       "      <td>1</td>\n",
       "      <td>transit_walk</td>\n",
       "      <td>17072</td>\n",
       "    </tr>\n",
       "    <tr>\n",
       "      <td>2</td>\n",
       "      <td>walk</td>\n",
       "      <td>12937</td>\n",
       "    </tr>\n",
       "    <tr>\n",
       "      <td>3</td>\n",
       "      <td>bike</td>\n",
       "      <td>1489</td>\n",
       "    </tr>\n",
       "  </tbody>\n",
       "</table>\n",
       "</div>"
      ],
      "text/plain": [
       "           mode  number of trips_start of trip\n",
       "0           car                          15446\n",
       "1  transit_walk                          17072\n",
       "2          walk                          12937\n",
       "3          bike                           1489"
      ]
     },
     "execution_count": 20,
     "metadata": {},
     "output_type": "execute_result"
    }
   ],
   "source": [
    "#df_current = df_current[df_current[\"personId\"].isin(desired_person_ID)].reset_index(drop=True)\n",
    "df_current = df_current.add_suffix(\"_start of trip\").rename(columns={\"mode_start of trip\": \"mode\"})\n",
    "df_current.head()"
   ]
  },
  {
   "cell_type": "code",
   "execution_count": 21,
   "metadata": {},
   "outputs": [
    {
     "data": {
      "text/html": [
       "<div>\n",
       "<style scoped>\n",
       "    .dataframe tbody tr th:only-of-type {\n",
       "        vertical-align: middle;\n",
       "    }\n",
       "\n",
       "    .dataframe tbody tr th {\n",
       "        vertical-align: top;\n",
       "    }\n",
       "\n",
       "    .dataframe thead th {\n",
       "        text-align: right;\n",
       "    }\n",
       "</style>\n",
       "<table border=\"1\" class=\"dataframe\">\n",
       "  <thead>\n",
       "    <tr style=\"text-align: right;\">\n",
       "      <th></th>\n",
       "      <th>mode</th>\n",
       "      <th>number of trips_no information</th>\n",
       "    </tr>\n",
       "  </thead>\n",
       "  <tbody>\n",
       "    <tr>\n",
       "      <td>0</td>\n",
       "      <td>car</td>\n",
       "      <td>15446</td>\n",
       "    </tr>\n",
       "    <tr>\n",
       "      <td>1</td>\n",
       "      <td>transit_walk</td>\n",
       "      <td>17072</td>\n",
       "    </tr>\n",
       "    <tr>\n",
       "      <td>2</td>\n",
       "      <td>walk</td>\n",
       "      <td>12937</td>\n",
       "    </tr>\n",
       "    <tr>\n",
       "      <td>3</td>\n",
       "      <td>bike</td>\n",
       "      <td>1489</td>\n",
       "    </tr>\n",
       "  </tbody>\n",
       "</table>\n",
       "</div>"
      ],
      "text/plain": [
       "           mode  number of trips_no information\n",
       "0           car                           15446\n",
       "1  transit_walk                           17072\n",
       "2          walk                           12937\n",
       "3          bike                            1489"
      ]
     },
     "execution_count": 21,
     "metadata": {},
     "output_type": "execute_result"
    }
   ],
   "source": [
    "#df_zero = df_zero[df_zero[\"personId\"].isin(desired_person_ID)].reset_index(drop=True)\n",
    "df_zero = df_zero.add_suffix(\"_no information\").rename(columns={\"mode_no information\": \"mode\"})\n",
    "df_zero.head()"
   ]
  },
  {
   "cell_type": "code",
   "execution_count": 22,
   "metadata": {},
   "outputs": [
    {
     "data": {
      "text/html": [
       "<div>\n",
       "<style scoped>\n",
       "    .dataframe tbody tr th:only-of-type {\n",
       "        vertical-align: middle;\n",
       "    }\n",
       "\n",
       "    .dataframe tbody tr th {\n",
       "        vertical-align: top;\n",
       "    }\n",
       "\n",
       "    .dataframe thead th {\n",
       "        text-align: right;\n",
       "    }\n",
       "</style>\n",
       "<table border=\"1\" class=\"dataframe\">\n",
       "  <thead>\n",
       "    <tr style=\"text-align: right;\">\n",
       "      <th></th>\n",
       "      <th>mode</th>\n",
       "      <th>number of trips_IncCap_20</th>\n",
       "    </tr>\n",
       "  </thead>\n",
       "  <tbody>\n",
       "    <tr>\n",
       "      <td>0</td>\n",
       "      <td>car</td>\n",
       "      <td>14340</td>\n",
       "    </tr>\n",
       "    <tr>\n",
       "      <td>1</td>\n",
       "      <td>transit_walk</td>\n",
       "      <td>17958</td>\n",
       "    </tr>\n",
       "    <tr>\n",
       "      <td>2</td>\n",
       "      <td>walk</td>\n",
       "      <td>13700</td>\n",
       "    </tr>\n",
       "    <tr>\n",
       "      <td>3</td>\n",
       "      <td>bike</td>\n",
       "      <td>946</td>\n",
       "    </tr>\n",
       "  </tbody>\n",
       "</table>\n",
       "</div>"
      ],
      "text/plain": [
       "           mode  number of trips_IncCap_20\n",
       "0           car                      14340\n",
       "1  transit_walk                      17958\n",
       "2          walk                      13700\n",
       "3          bike                        946"
      ]
     },
     "execution_count": 22,
     "metadata": {},
     "output_type": "execute_result"
    }
   ],
   "source": [
    "#df_IncCap_20 = df_IncCap_20[df_IncCap_20[\"personId\"].isin(desired_person_ID)].reset_index(drop=True)\n",
    "df_IncCap_20 = df_IncCap_20.add_suffix(\"_IncCap_20\").rename(columns={\"mode_IncCap_20\": \"mode\"})\n",
    "df_IncCap_20.head()"
   ]
  },
  {
   "cell_type": "code",
   "execution_count": 23,
   "metadata": {},
   "outputs": [
    {
     "data": {
      "text/html": [
       "<div>\n",
       "<style scoped>\n",
       "    .dataframe tbody tr th:only-of-type {\n",
       "        vertical-align: middle;\n",
       "    }\n",
       "\n",
       "    .dataframe tbody tr th {\n",
       "        vertical-align: top;\n",
       "    }\n",
       "\n",
       "    .dataframe thead th {\n",
       "        text-align: right;\n",
       "    }\n",
       "</style>\n",
       "<table border=\"1\" class=\"dataframe\">\n",
       "  <thead>\n",
       "    <tr style=\"text-align: right;\">\n",
       "      <th></th>\n",
       "      <th>mode</th>\n",
       "      <th>number of trips_IncCap_20_equi</th>\n",
       "    </tr>\n",
       "  </thead>\n",
       "  <tbody>\n",
       "    <tr>\n",
       "      <td>0</td>\n",
       "      <td>car</td>\n",
       "      <td>14178</td>\n",
       "    </tr>\n",
       "    <tr>\n",
       "      <td>1</td>\n",
       "      <td>transit_walk</td>\n",
       "      <td>18640</td>\n",
       "    </tr>\n",
       "    <tr>\n",
       "      <td>2</td>\n",
       "      <td>walk</td>\n",
       "      <td>12826</td>\n",
       "    </tr>\n",
       "    <tr>\n",
       "      <td>3</td>\n",
       "      <td>bike</td>\n",
       "      <td>1300</td>\n",
       "    </tr>\n",
       "  </tbody>\n",
       "</table>\n",
       "</div>"
      ],
      "text/plain": [
       "           mode  number of trips_IncCap_20_equi\n",
       "0           car                           14178\n",
       "1  transit_walk                           18640\n",
       "2          walk                           12826\n",
       "3          bike                            1300"
      ]
     },
     "execution_count": 23,
     "metadata": {},
     "output_type": "execute_result"
    }
   ],
   "source": [
    "#df_IncCap_20_equi = df_IncCap_20_equi[df_IncCap_20_equi[\"personId\"].isin(desired_person_ID)].reset_index(drop=True)\n",
    "df_IncCap_20_equi = df_IncCap_20_equi.add_suffix(\"_IncCap_20_equi\").rename(columns={\"mode_IncCap_20_equi\": \"mode\"})\n",
    "df_IncCap_20_equi.head()"
   ]
  },
  {
   "cell_type": "code",
   "execution_count": 24,
   "metadata": {},
   "outputs": [],
   "source": [
    "scenarios = [df_benchmark,df_zero,df_current,df_reactive,df_equilibrium,\n",
    "                 df_line11,df_IncCap_20,df_IncCap_20_equi,df_IncCap,df_IncCap_100_equi]\n",
    "             \n",
    "keys = [\"EOD\",'no information','start of trip','start of disruption','EWD','line11',\n",
    "        #'lineTen_ca',\n",
    "        'IncCap_20','IncCap_20_equi','IncCap','IncCap_100_equi']"
   ]
  },
  {
   "cell_type": "markdown",
   "metadata": {},
   "source": [
    "# Evaluation for train and non-train "
   ]
  },
  {
   "cell_type": "code",
   "execution_count": 35,
   "metadata": {},
   "outputs": [
    {
     "data": {
      "text/html": [
       "<div>\n",
       "<style scoped>\n",
       "    .dataframe tbody tr th:only-of-type {\n",
       "        vertical-align: middle;\n",
       "    }\n",
       "\n",
       "    .dataframe tbody tr th {\n",
       "        vertical-align: top;\n",
       "    }\n",
       "\n",
       "    .dataframe thead th {\n",
       "        text-align: right;\n",
       "    }\n",
       "</style>\n",
       "<table border=\"1\" class=\"dataframe\">\n",
       "  <thead>\n",
       "    <tr style=\"text-align: right;\">\n",
       "      <th></th>\n",
       "      <th>mode</th>\n",
       "      <th>EOD</th>\n",
       "      <th>no information</th>\n",
       "      <th>start of trip</th>\n",
       "      <th>start of disruption</th>\n",
       "      <th>EWD</th>\n",
       "      <th>line11</th>\n",
       "      <th>IncCap_20</th>\n",
       "      <th>IncCap_20_equi</th>\n",
       "      <th>IncCap</th>\n",
       "      <th>IncCap_100_equi</th>\n",
       "    </tr>\n",
       "  </thead>\n",
       "  <tbody>\n",
       "    <tr>\n",
       "      <td>0</td>\n",
       "      <td>car</td>\n",
       "      <td>15446</td>\n",
       "      <td>15446</td>\n",
       "      <td>15446</td>\n",
       "      <td>15446</td>\n",
       "      <td>15486</td>\n",
       "      <td>14340</td>\n",
       "      <td>14340</td>\n",
       "      <td>14178</td>\n",
       "      <td>14340</td>\n",
       "      <td>14042</td>\n",
       "    </tr>\n",
       "    <tr>\n",
       "      <td>1</td>\n",
       "      <td>transit_walk</td>\n",
       "      <td>17072</td>\n",
       "      <td>17072</td>\n",
       "      <td>17072</td>\n",
       "      <td>17072</td>\n",
       "      <td>16983</td>\n",
       "      <td>17958</td>\n",
       "      <td>17958</td>\n",
       "      <td>18640</td>\n",
       "      <td>17958</td>\n",
       "      <td>18754</td>\n",
       "    </tr>\n",
       "    <tr>\n",
       "      <td>2</td>\n",
       "      <td>walk</td>\n",
       "      <td>12937</td>\n",
       "      <td>12937</td>\n",
       "      <td>12937</td>\n",
       "      <td>12937</td>\n",
       "      <td>12981</td>\n",
       "      <td>13700</td>\n",
       "      <td>13700</td>\n",
       "      <td>12826</td>\n",
       "      <td>13700</td>\n",
       "      <td>12850</td>\n",
       "    </tr>\n",
       "    <tr>\n",
       "      <td>3</td>\n",
       "      <td>bike</td>\n",
       "      <td>1489</td>\n",
       "      <td>1489</td>\n",
       "      <td>1489</td>\n",
       "      <td>1489</td>\n",
       "      <td>1494</td>\n",
       "      <td>946</td>\n",
       "      <td>946</td>\n",
       "      <td>1300</td>\n",
       "      <td>946</td>\n",
       "      <td>1298</td>\n",
       "    </tr>\n",
       "  </tbody>\n",
       "</table>\n",
       "</div>"
      ],
      "text/plain": [
       "           mode    EOD  no information  start of trip  start of disruption  \\\n",
       "0           car  15446           15446          15446                15446   \n",
       "1  transit_walk  17072           17072          17072                17072   \n",
       "2          walk  12937           12937          12937                12937   \n",
       "3          bike   1489            1489           1489                 1489   \n",
       "\n",
       "     EWD  line11  IncCap_20  IncCap_20_equi  IncCap  IncCap_100_equi  \n",
       "0  15486   14340      14340           14178   14340            14042  \n",
       "1  16983   17958      17958           18640   17958            18754  \n",
       "2  12981   13700      13700           12826   13700            12850  \n",
       "3   1494     946        946            1300     946             1298  "
      ]
     },
     "execution_count": 35,
     "metadata": {},
     "output_type": "execute_result"
    }
   ],
   "source": [
    "df_modeshare_allagent_WD= pd.DataFrame()\n",
    "modes = ['car', 'transit_walk', 'walk', 'bike']\n",
    "df_modeshare_allagent_WD['mode'] = modes\n",
    "#scenarios = [df_benchmark,df_equilibrium,df_reactive,df_lineTen_ca,df_lineTen_Schedule,df_IncCap,df_IncCap_100_equi,\n",
    "               # df_IncCap_20,df_IncCap_20_equi,df_line11_after4,df_current,df_zero]\n",
    "\n",
    "#keys = [\"EOD\",'EWD','start of disruption','lineTen_ca','lineTen_Schedule','IncCap','IncCap_100_equi',\n",
    "               # 'IncCap_20','IncCap_20_equi','line11','start of trip','no information']\n",
    "\n",
    "for key, scenario in zip(keys,scenarios):\n",
    "        df_modeshare_allagent_WD[key] = scenario[\"number of trips_\"+key]\n",
    "    \n",
    "df_modeshare_allagent_WD.head()"
   ]
  },
  {
   "cell_type": "code",
   "execution_count": 36,
   "metadata": {},
   "outputs": [],
   "source": [
    "df_modeshare_allagent_WD.rename(columns={\"EOD\":\"Equilibrium without the disruption\",\"no information\":\"none\",\n",
    "                                             \"EWD\":\"Equilibrium+ disruption\",\n",
    "                                #\"lineTen_ca\":\"2x10\",\n",
    "                                             \"line11\":\"Line11-Large-Capacity-Increased\",\n",
    "                                 \"IncCap\":\"Large-Capacity-Increased-allDay \",\"IncCap_100_equi\":\"Equilibrium+Large-Capacity-Increase \",\n",
    "                                 \"IncCap_20\":\"Medium-Capacity-Increased-allDay \",\"IncCap_20_equi\":\"Equilibrium+Medium-Increase-Capacity \"}, inplace = True)"
   ]
  },
  {
   "cell_type": "code",
   "execution_count": null,
   "metadata": {},
   "outputs": [],
   "source": []
  },
  {
   "cell_type": "code",
   "execution_count": 37,
   "metadata": {},
   "outputs": [],
   "source": [
    "#df_modeshare_allagent_WD.drop(['pt'], inplace=True)\n",
    "df_modeshare_allagent_WD.to_excel(\"modeShare_Trip_WholeDay_AllAgents_category.xlsx\")"
   ]
  },
  {
   "cell_type": "code",
   "execution_count": 38,
   "metadata": {},
   "outputs": [
    {
     "data": {
      "text/html": [
       "<div>\n",
       "<style scoped>\n",
       "    .dataframe tbody tr th:only-of-type {\n",
       "        vertical-align: middle;\n",
       "    }\n",
       "\n",
       "    .dataframe tbody tr th {\n",
       "        vertical-align: top;\n",
       "    }\n",
       "\n",
       "    .dataframe thead th {\n",
       "        text-align: right;\n",
       "    }\n",
       "</style>\n",
       "<table border=\"1\" class=\"dataframe\">\n",
       "  <thead>\n",
       "    <tr style=\"text-align: right;\">\n",
       "      <th></th>\n",
       "      <th>Equilibrium without the disruption</th>\n",
       "      <th>none</th>\n",
       "      <th>start of trip</th>\n",
       "      <th>start of disruption</th>\n",
       "      <th>Equilibrium+ disruption</th>\n",
       "      <th>Line11-Large-Capacity-Increased</th>\n",
       "      <th>Medium-Capacity-Increased-allDay</th>\n",
       "      <th>Equilibrium+Medium-Increase-Capacity</th>\n",
       "      <th>Large-Capacity-Increased-allDay</th>\n",
       "      <th>Equilibrium+Large-Capacity-Increase</th>\n",
       "    </tr>\n",
       "    <tr>\n",
       "      <th>mode</th>\n",
       "      <th></th>\n",
       "      <th></th>\n",
       "      <th></th>\n",
       "      <th></th>\n",
       "      <th></th>\n",
       "      <th></th>\n",
       "      <th></th>\n",
       "      <th></th>\n",
       "      <th></th>\n",
       "      <th></th>\n",
       "    </tr>\n",
       "  </thead>\n",
       "  <tbody>\n",
       "    <tr>\n",
       "      <td>car</td>\n",
       "      <td>15446</td>\n",
       "      <td>15446</td>\n",
       "      <td>15446</td>\n",
       "      <td>15446</td>\n",
       "      <td>15486</td>\n",
       "      <td>14340</td>\n",
       "      <td>14340</td>\n",
       "      <td>14178</td>\n",
       "      <td>14340</td>\n",
       "      <td>14042</td>\n",
       "    </tr>\n",
       "    <tr>\n",
       "      <td>transit_walk</td>\n",
       "      <td>17072</td>\n",
       "      <td>17072</td>\n",
       "      <td>17072</td>\n",
       "      <td>17072</td>\n",
       "      <td>16983</td>\n",
       "      <td>17958</td>\n",
       "      <td>17958</td>\n",
       "      <td>18640</td>\n",
       "      <td>17958</td>\n",
       "      <td>18754</td>\n",
       "    </tr>\n",
       "    <tr>\n",
       "      <td>walk</td>\n",
       "      <td>12937</td>\n",
       "      <td>12937</td>\n",
       "      <td>12937</td>\n",
       "      <td>12937</td>\n",
       "      <td>12981</td>\n",
       "      <td>13700</td>\n",
       "      <td>13700</td>\n",
       "      <td>12826</td>\n",
       "      <td>13700</td>\n",
       "      <td>12850</td>\n",
       "    </tr>\n",
       "    <tr>\n",
       "      <td>bike</td>\n",
       "      <td>1489</td>\n",
       "      <td>1489</td>\n",
       "      <td>1489</td>\n",
       "      <td>1489</td>\n",
       "      <td>1494</td>\n",
       "      <td>946</td>\n",
       "      <td>946</td>\n",
       "      <td>1300</td>\n",
       "      <td>946</td>\n",
       "      <td>1298</td>\n",
       "    </tr>\n",
       "  </tbody>\n",
       "</table>\n",
       "</div>"
      ],
      "text/plain": [
       "              Equilibrium without the disruption   none  start of trip  \\\n",
       "mode                                                                     \n",
       "car                                        15446  15446          15446   \n",
       "transit_walk                               17072  17072          17072   \n",
       "walk                                       12937  12937          12937   \n",
       "bike                                        1489   1489           1489   \n",
       "\n",
       "              start of disruption  Equilibrium+ disruption  \\\n",
       "mode                                                         \n",
       "car                         15446                    15486   \n",
       "transit_walk                17072                    16983   \n",
       "walk                        12937                    12981   \n",
       "bike                         1489                     1494   \n",
       "\n",
       "              Line11-Large-Capacity-Increased  \\\n",
       "mode                                            \n",
       "car                                     14340   \n",
       "transit_walk                            17958   \n",
       "walk                                    13700   \n",
       "bike                                      946   \n",
       "\n",
       "              Medium-Capacity-Increased-allDay   \\\n",
       "mode                                              \n",
       "car                                       14340   \n",
       "transit_walk                              17958   \n",
       "walk                                      13700   \n",
       "bike                                        946   \n",
       "\n",
       "              Equilibrium+Medium-Increase-Capacity   \\\n",
       "mode                                                  \n",
       "car                                           14178   \n",
       "transit_walk                                  18640   \n",
       "walk                                          12826   \n",
       "bike                                           1300   \n",
       "\n",
       "              Large-Capacity-Increased-allDay   \\\n",
       "mode                                             \n",
       "car                                      14340   \n",
       "transit_walk                             17958   \n",
       "walk                                     13700   \n",
       "bike                                       946   \n",
       "\n",
       "              Equilibrium+Large-Capacity-Increase   \n",
       "mode                                                \n",
       "car                                          14042  \n",
       "transit_walk                                 18754  \n",
       "walk                                         12850  \n",
       "bike                                          1298  "
      ]
     },
     "execution_count": 38,
     "metadata": {},
     "output_type": "execute_result"
    }
   ],
   "source": [
    "df_modeshare_allagent_WD.set_index('mode', inplace = True)\n",
    "df_modeshare_allagent_WD"
   ]
  },
  {
   "cell_type": "code",
   "execution_count": 39,
   "metadata": {},
   "outputs": [
    {
     "data": {
      "text/html": [
       "<div>\n",
       "<style scoped>\n",
       "    .dataframe tbody tr th:only-of-type {\n",
       "        vertical-align: middle;\n",
       "    }\n",
       "\n",
       "    .dataframe tbody tr th {\n",
       "        vertical-align: top;\n",
       "    }\n",
       "\n",
       "    .dataframe thead th {\n",
       "        text-align: right;\n",
       "    }\n",
       "</style>\n",
       "<table border=\"1\" class=\"dataframe\">\n",
       "  <thead>\n",
       "    <tr style=\"text-align: right;\">\n",
       "      <th>mode</th>\n",
       "      <th>car</th>\n",
       "      <th>transit_walk</th>\n",
       "      <th>walk</th>\n",
       "      <th>bike</th>\n",
       "    </tr>\n",
       "  </thead>\n",
       "  <tbody>\n",
       "    <tr>\n",
       "      <td>Equilibrium without the disruption</td>\n",
       "      <td>15446</td>\n",
       "      <td>17072</td>\n",
       "      <td>12937</td>\n",
       "      <td>1489</td>\n",
       "    </tr>\n",
       "    <tr>\n",
       "      <td>none</td>\n",
       "      <td>15446</td>\n",
       "      <td>17072</td>\n",
       "      <td>12937</td>\n",
       "      <td>1489</td>\n",
       "    </tr>\n",
       "    <tr>\n",
       "      <td>start of trip</td>\n",
       "      <td>15446</td>\n",
       "      <td>17072</td>\n",
       "      <td>12937</td>\n",
       "      <td>1489</td>\n",
       "    </tr>\n",
       "    <tr>\n",
       "      <td>start of disruption</td>\n",
       "      <td>15446</td>\n",
       "      <td>17072</td>\n",
       "      <td>12937</td>\n",
       "      <td>1489</td>\n",
       "    </tr>\n",
       "    <tr>\n",
       "      <td>Equilibrium+ disruption</td>\n",
       "      <td>15486</td>\n",
       "      <td>16983</td>\n",
       "      <td>12981</td>\n",
       "      <td>1494</td>\n",
       "    </tr>\n",
       "    <tr>\n",
       "      <td>Line11-Large-Capacity-Increased</td>\n",
       "      <td>14340</td>\n",
       "      <td>17958</td>\n",
       "      <td>13700</td>\n",
       "      <td>946</td>\n",
       "    </tr>\n",
       "    <tr>\n",
       "      <td>Medium-Capacity-Increased-allDay</td>\n",
       "      <td>14340</td>\n",
       "      <td>17958</td>\n",
       "      <td>13700</td>\n",
       "      <td>946</td>\n",
       "    </tr>\n",
       "    <tr>\n",
       "      <td>Equilibrium+Medium-Increase-Capacity</td>\n",
       "      <td>14178</td>\n",
       "      <td>18640</td>\n",
       "      <td>12826</td>\n",
       "      <td>1300</td>\n",
       "    </tr>\n",
       "    <tr>\n",
       "      <td>Large-Capacity-Increased-allDay</td>\n",
       "      <td>14340</td>\n",
       "      <td>17958</td>\n",
       "      <td>13700</td>\n",
       "      <td>946</td>\n",
       "    </tr>\n",
       "    <tr>\n",
       "      <td>Equilibrium+Large-Capacity-Increase</td>\n",
       "      <td>14042</td>\n",
       "      <td>18754</td>\n",
       "      <td>12850</td>\n",
       "      <td>1298</td>\n",
       "    </tr>\n",
       "  </tbody>\n",
       "</table>\n",
       "</div>"
      ],
      "text/plain": [
       "mode                                     car  transit_walk   walk  bike\n",
       "Equilibrium without the disruption     15446         17072  12937  1489\n",
       "none                                   15446         17072  12937  1489\n",
       "start of trip                          15446         17072  12937  1489\n",
       "start of disruption                    15446         17072  12937  1489\n",
       "Equilibrium+ disruption                15486         16983  12981  1494\n",
       "Line11-Large-Capacity-Increased        14340         17958  13700   946\n",
       "Medium-Capacity-Increased-allDay       14340         17958  13700   946\n",
       "Equilibrium+Medium-Increase-Capacity   14178         18640  12826  1300\n",
       "Large-Capacity-Increased-allDay        14340         17958  13700   946\n",
       "Equilibrium+Large-Capacity-Increase    14042         18754  12850  1298"
      ]
     },
     "execution_count": 39,
     "metadata": {},
     "output_type": "execute_result"
    }
   ],
   "source": [
    "#df_modeshare_allagent_WD.rename({\"leg\":\"pt\"}, inplace=True)\n",
    "df_modeshare_allagent_WD_swap= df_modeshare_allagent_WD.T\n",
    "df_modeshare_allagent_WD_swap"
   ]
  },
  {
   "cell_type": "code",
   "execution_count": null,
   "metadata": {},
   "outputs": [],
   "source": []
  },
  {
   "cell_type": "code",
   "execution_count": 40,
   "metadata": {},
   "outputs": [],
   "source": [
    "#df_modeshare_allagent_WD_swap.drop(columns={'pt'}, inplace=True)"
   ]
  },
  {
   "cell_type": "code",
   "execution_count": 41,
   "metadata": {
    "scrolled": true
   },
   "outputs": [
    {
     "data": {
      "image/png": "[encoded data removed]",
      "text/plain": [
       "<Figure size 1008x576 with 1 Axes>"
      ]
     },
     "metadata": {
      "needs_background": "light"
     },
     "output_type": "display_data"
    }
   ],
   "source": [
    "#Colors_list = ['#5cb85c','#5bc0de','#d9534f']\n",
    "\n",
    "# Change this line to plot percentages instead of absolute values\n",
    "ax = (df_modeshare_allagent_WD_swap.div(df_modeshare_allagent_WD_swap.sum(1), axis=0)).plot(kind='bar',\n",
    "            stacked = True, figsize=(14,8),width = 0.2,edgecolor=None)\n",
    "ax.yaxis.grid(True)\n",
    "ax.set_facecolor('xkcd:light gray')\n",
    "plt.legend(labels=df_modeshare_allagent_WD_swap.columns,fontsize= 14)\n",
    "plt.legend(loc='best')\n",
    "plt.xticks(rotation=0, horizontalalignment=\"center\")\n",
    "#plt.title(\"Percentage of mode choice analysis in scenarios for all agents\",fontsize= 16)\n",
    "\n",
    "plt.xticks(fontsize=14)\n",
    "for spine in plt.gca().spines.values():\n",
    "    spine.set_visible(True)\n",
    "plt.yticks(fontsize=14)\n",
    "\n",
    "\n",
    "\n",
    "# Add this loop to add the annotations\n",
    "for p in ax.patches:\n",
    "    width, height = p.get_width(), p.get_height()\n",
    "    x, y = p.get_xy() \n",
    "    ax.annotate('{:0.2%}'.format(height), (x + 0.02, y +  0.01),fontsize=11,weight = 'bold')\n",
    "    \n",
    "plt.savefig(\"Percentage of mode choice analysis in scenarios for all agents.pdf\")    "
   ]
  },
  {
   "cell_type": "markdown",
   "metadata": {},
   "source": [
    "fig, axes = plt.subplots(4, 4, figsize=(11, 13))\n",
    "\n",
    "for i, (idx, row) in enumerate(df_modeshare_allagent_WD_swap.iterrows()):\n",
    "    ax = axes[i // 3, i % 3]\n",
    "    row = row[row.gt(row.sum() * .01)]\n",
    "    ax.pie(row, labels=row.index, startangle=30)\n",
    "    ax.set_title(idx)\n",
    "\n",
    "fig.subplots_adjust(wspace=.1)\n",
    "fig.savefig('modeShare_WholeDay_AllAgents_category.pdf')"
   ]
  },
  {
   "cell_type": "markdown",
   "metadata": {},
   "source": [
    "df_modeshare_allagent_WD_swap.drop(['start of disruption','lineTen_ca', 'lineTen_Schedule',\n",
    "                                    'IncCap', 'IncCap_20','line11','start of trip','no information'], inplace=True)"
   ]
  },
  {
   "cell_type": "markdown",
   "metadata": {},
   "source": [
    "fig, axes = plt.subplots(4, 3, figsize=(11, 13))\n",
    "\n",
    "for i, (idx, row) in enumerate(df_modeshare_allagent_WD_swap.iterrows()):\n",
    "    ax = axes[i // 3, i % 3]\n",
    "    row = row[row.gt(row.sum() * .01)]\n",
    "    ax.pie(row, labels=row.index, startangle=30)\n",
    "    ax.set_title(idx)\n",
    "\n",
    "fig.subplots_adjust(wspace=.1)\n",
    "fig.savefig('modeShare_WholeDay_AllAgents_EquiScenarios.pdf')"
   ]
  },
  {
   "cell_type": "code",
   "execution_count": null,
   "metadata": {},
   "outputs": [],
   "source": []
  },
  {
   "cell_type": "code",
   "execution_count": 42,
   "metadata": {},
   "outputs": [
    {
     "data": {
      "text/html": [
       "<div>\n",
       "<style scoped>\n",
       "    .dataframe tbody tr th:only-of-type {\n",
       "        vertical-align: middle;\n",
       "    }\n",
       "\n",
       "    .dataframe tbody tr th {\n",
       "        vertical-align: top;\n",
       "    }\n",
       "\n",
       "    .dataframe thead th {\n",
       "        text-align: right;\n",
       "    }\n",
       "</style>\n",
       "<table border=\"1\" class=\"dataframe\">\n",
       "  <thead>\n",
       "    <tr style=\"text-align: right;\">\n",
       "      <th>mode</th>\n",
       "      <th>car</th>\n",
       "      <th>transit_walk</th>\n",
       "      <th>walk</th>\n",
       "      <th>bike</th>\n",
       "    </tr>\n",
       "  </thead>\n",
       "  <tbody>\n",
       "    <tr>\n",
       "      <td>Equilibrium without the disruption</td>\n",
       "      <td>32.90</td>\n",
       "      <td>36.37</td>\n",
       "      <td>27.56</td>\n",
       "      <td>3.17</td>\n",
       "    </tr>\n",
       "    <tr>\n",
       "      <td>none</td>\n",
       "      <td>32.90</td>\n",
       "      <td>36.37</td>\n",
       "      <td>27.56</td>\n",
       "      <td>3.17</td>\n",
       "    </tr>\n",
       "    <tr>\n",
       "      <td>start of trip</td>\n",
       "      <td>32.90</td>\n",
       "      <td>36.37</td>\n",
       "      <td>27.56</td>\n",
       "      <td>3.17</td>\n",
       "    </tr>\n",
       "    <tr>\n",
       "      <td>start of disruption</td>\n",
       "      <td>32.90</td>\n",
       "      <td>36.37</td>\n",
       "      <td>27.56</td>\n",
       "      <td>3.17</td>\n",
       "    </tr>\n",
       "    <tr>\n",
       "      <td>Equilibrium+ disruption</td>\n",
       "      <td>32.99</td>\n",
       "      <td>36.18</td>\n",
       "      <td>27.65</td>\n",
       "      <td>3.18</td>\n",
       "    </tr>\n",
       "    <tr>\n",
       "      <td>Line11-Large-Capacity-Increased</td>\n",
       "      <td>30.55</td>\n",
       "      <td>38.25</td>\n",
       "      <td>29.18</td>\n",
       "      <td>2.02</td>\n",
       "    </tr>\n",
       "    <tr>\n",
       "      <td>Medium-Capacity-Increased-allDay</td>\n",
       "      <td>30.55</td>\n",
       "      <td>38.25</td>\n",
       "      <td>29.18</td>\n",
       "      <td>2.02</td>\n",
       "    </tr>\n",
       "    <tr>\n",
       "      <td>Equilibrium+Medium-Increase-Capacity</td>\n",
       "      <td>30.20</td>\n",
       "      <td>39.71</td>\n",
       "      <td>27.32</td>\n",
       "      <td>2.77</td>\n",
       "    </tr>\n",
       "    <tr>\n",
       "      <td>Large-Capacity-Increased-allDay</td>\n",
       "      <td>30.55</td>\n",
       "      <td>38.25</td>\n",
       "      <td>29.18</td>\n",
       "      <td>2.02</td>\n",
       "    </tr>\n",
       "    <tr>\n",
       "      <td>Equilibrium+Large-Capacity-Increase</td>\n",
       "      <td>29.91</td>\n",
       "      <td>39.95</td>\n",
       "      <td>27.37</td>\n",
       "      <td>2.76</td>\n",
       "    </tr>\n",
       "  </tbody>\n",
       "</table>\n",
       "</div>"
      ],
      "text/plain": [
       "mode                                     car  transit_walk   walk  bike\n",
       "Equilibrium without the disruption     32.90         36.37  27.56  3.17\n",
       "none                                   32.90         36.37  27.56  3.17\n",
       "start of trip                          32.90         36.37  27.56  3.17\n",
       "start of disruption                    32.90         36.37  27.56  3.17\n",
       "Equilibrium+ disruption                32.99         36.18  27.65  3.18\n",
       "Line11-Large-Capacity-Increased        30.55         38.25  29.18  2.02\n",
       "Medium-Capacity-Increased-allDay       30.55         38.25  29.18  2.02\n",
       "Equilibrium+Medium-Increase-Capacity   30.20         39.71  27.32  2.77\n",
       "Large-Capacity-Increased-allDay        30.55         38.25  29.18  2.02\n",
       "Equilibrium+Large-Capacity-Increase    29.91         39.95  27.37  2.76"
      ]
     },
     "execution_count": 42,
     "metadata": {},
     "output_type": "execute_result"
    }
   ],
   "source": [
    "df_percentage_allagents = df_modeshare_allagent_WD_swap.div(df_modeshare_allagent_WD_swap.sum(axis=1), axis=0).mul(100).round(2)\n",
    "df_percentage_allagents"
   ]
  },
  {
   "cell_type": "code",
   "execution_count": 44,
   "metadata": {},
   "outputs": [],
   "source": [
    "df_percentage_allagents.to_excel(\"ModeShare_Trip_percentage_all Agents.xlsx\")"
   ]
  },
  {
   "cell_type": "code",
   "execution_count": null,
   "metadata": {},
   "outputs": [],
   "source": [
    "df_percentage_allagents[]"
   ]
  },
  {
   "cell_type": "code",
   "execution_count": 49,
   "metadata": {},
   "outputs": [
    {
     "data": {
      "image/png": "[encoded data removed]",
      "text/plain": [
       "<Figure size 7200x4320 with 10 Axes>"
      ]
     },
     "metadata": {},
     "output_type": "display_data"
    }
   ],
   "source": [
    "plot = df_percentage_allagents_swap.plot.pie(subplots=True, figsize=(100,60))\n",
    "plt.savefig('modeShare_trip_AllAgents__Quaibrucke.pdf')"
   ]
  },
  {
   "cell_type": "code",
   "execution_count": 79,
   "metadata": {},
   "outputs": [
    {
     "ename": "NameError",
     "evalue": "name 'wedges' is not defined",
     "output_type": "error",
     "traceback": [
      "\u001b[1;31m---------------------------------------------------------------------------\u001b[0m",
      "\u001b[1;31mNameError\u001b[0m                                 Traceback (most recent call last)",
      "\u001b[1;32m<ipython-input-79-6b6365e2582a>\u001b[0m in \u001b[0;36m<module>\u001b[1;34m\u001b[0m\n\u001b[0;32m      7\u001b[0m     \u001b[0max\u001b[0m\u001b[1;33m.\u001b[0m\u001b[0mset_title\u001b[0m\u001b[1;33m(\u001b[0m\u001b[0midx\u001b[0m\u001b[1;33m)\u001b[0m\u001b[1;33m\u001b[0m\u001b[0m\n\u001b[0;32m      8\u001b[0m \u001b[1;33m\u001b[0m\u001b[0m\n\u001b[1;32m----> 9\u001b[1;33m fig.legend(wedges, ingredients,\n\u001b[0m\u001b[0;32m     10\u001b[0m           \u001b[0mtitle\u001b[0m\u001b[1;33m=\u001b[0m\u001b[1;34m\"Ingredients\"\u001b[0m\u001b[1;33m,\u001b[0m\u001b[1;33m\u001b[0m\u001b[0m\n\u001b[0;32m     11\u001b[0m           \u001b[0mloc\u001b[0m\u001b[1;33m=\u001b[0m\u001b[1;34m\"center left\"\u001b[0m\u001b[1;33m,\u001b[0m\u001b[1;33m\u001b[0m\u001b[0m\n",
      "\u001b[1;31mNameError\u001b[0m: name 'wedges' is not defined"
     ]
    },
    {
     "data": {
      "image/png": "[encoded data removed]",
      "text/plain": [
       "<Figure size 720x432 with 12 Axes>"
      ]
     },
     "metadata": {
      "needs_background": "light"
     },
     "output_type": "display_data"
    }
   ],
   "source": [
    "fig, axes = plt.subplots(4, 3, figsize=(10, 6))\n",
    "\n",
    "for i, (idx, row) in enumerate(df_percentage_allagents.iterrows()):\n",
    "    ax = axes[i // 3, i % 3]\n",
    "    row = row[row.gt(row.sum() * .03)]\n",
    "    ax.pie(row, labels=row.index, autopct='%1.1f%%',startangle=30)\n",
    "    ax.set_title(idx)\n",
    "\n",
    "fig.legend(('car','transit_walk','walk','bike'), prop={'size': 8}, title = 'Scenarios')\n",
    "fig.subplots_adjust(wspace=3)"
   ]
  },
  {
   "cell_type": "code",
   "execution_count": 76,
   "metadata": {},
   "outputs": [
    {
     "ename": "IndexError",
     "evalue": "index 10 is out of bounds for axis 0 with size 10",
     "output_type": "error",
     "traceback": [
      "\u001b[1;31m---------------------------------------------------------------------------\u001b[0m",
      "\u001b[1;31mIndexError\u001b[0m                                Traceback (most recent call last)",
      "\u001b[1;32m<ipython-input-76-09bd1999c5cd>\u001b[0m in \u001b[0;36m<module>\u001b[1;34m\u001b[0m\n\u001b[0;32m      6\u001b[0m \u001b[1;33m\u001b[0m\u001b[0m\n\u001b[0;32m      7\u001b[0m \u001b[1;32mfor\u001b[0m \u001b[0mrow\u001b[0m \u001b[1;32min\u001b[0m \u001b[0mrange\u001b[0m\u001b[1;33m(\u001b[0m\u001b[0mdf\u001b[0m\u001b[1;33m.\u001b[0m\u001b[0mindex\u001b[0m\u001b[1;33m.\u001b[0m\u001b[0msize\u001b[0m \u001b[1;33m+\u001b[0m \u001b[1;36m1\u001b[0m\u001b[1;33m)\u001b[0m\u001b[1;33m:\u001b[0m\u001b[1;33m\u001b[0m\u001b[0m\n\u001b[1;32m----> 8\u001b[1;33m     \u001b[0mfig\u001b[0m\u001b[1;33m.\u001b[0m\u001b[0madd_subplot\u001b[0m\u001b[1;33m(\u001b[0m\u001b[0maxs\u001b[0m\u001b[1;33m[\u001b[0m\u001b[0mrow\u001b[0m\u001b[1;33m]\u001b[0m \u001b[1;33m)\u001b[0m\u001b[1;33m\u001b[0m\u001b[0m\n\u001b[0m\u001b[0;32m      9\u001b[0m     \u001b[0mplt\u001b[0m\u001b[1;33m.\u001b[0m\u001b[0mpie\u001b[0m\u001b[1;33m(\u001b[0m\u001b[0mdf\u001b[0m\u001b[1;33m.\u001b[0m\u001b[0mloc\u001b[0m\u001b[1;33m[\u001b[0m\u001b[0mdf\u001b[0m\u001b[1;33m.\u001b[0m\u001b[0mindex\u001b[0m\u001b[1;33m[\u001b[0m\u001b[0mrow\u001b[0m\u001b[1;33m]\u001b[0m\u001b[1;33m,\u001b[0m\u001b[1;33m:\u001b[0m\u001b[1;33m]\u001b[0m\u001b[1;33m,\u001b[0m \u001b[0mlabels\u001b[0m\u001b[1;33m=\u001b[0m\u001b[0mdf\u001b[0m\u001b[1;33m.\u001b[0m\u001b[0mcolumns\u001b[0m\u001b[1;33m)\u001b[0m\u001b[1;33m\u001b[0m\u001b[0m\n\u001b[0;32m     10\u001b[0m     \u001b[0mplt\u001b[0m\u001b[1;33m.\u001b[0m\u001b[0maxis\u001b[0m\u001b[1;33m(\u001b[0m\u001b[1;34m'off'\u001b[0m\u001b[1;33m)\u001b[0m\u001b[1;33m\u001b[0m\u001b[0m\n",
      "\u001b[1;31mIndexError\u001b[0m: index 10 is out of bounds for axis 0 with size 10"
     ]
    },
    {
     "data": {
      "image/png": "[encoded data removed]",
      "text/plain": [
       "<Figure size 504x504 with 10 Axes>"
      ]
     },
     "metadata": {},
     "output_type": "display_data"
    }
   ],
   "source": [
    "df= df_percentage_allagents.div(df_percentage_allagents.sum(axis=1), axis=0)\n",
    "\n",
    "fig, axs = plt.subplots(nrows=df.index.size, ncols=1, figsize=(7,7))\n",
    "\n",
    "fig.subplots_adjust(hspace=0.5, wspace=0.05)\n",
    "\n",
    "for row in range(df.index.size + 1):\n",
    "    fig.add_subplot(axs[row] )\n",
    "    plt.pie(df.loc[df.index[row],:], labels=df.columns)\n",
    "    plt.axis('off')"
   ]
  },
  {
   "cell_type": "code",
   "execution_count": null,
   "metadata": {},
   "outputs": [],
   "source": [
    "df_percentage.to_excel(\"df_percentage_ptDetailed_affected Agents.xlsx\")"
   ]
  },
  {
   "cell_type": "code",
   "execution_count": null,
   "metadata": {},
   "outputs": [],
   "source": [
    "Colors_list = ['#5cb85c','#5bc0de','#d9534f']\n",
    "\n",
    "# Change this line to plot percentages instead of absolute values\n",
    "ax = (df_df_modeshare_affectedAgent_WD_new_reduced.div(df_df_modeshare_affectedAgent_WD_new_reduced.sum(1), axis=0)).plot(kind='bar',\n",
    "            stacked = True, figsize=(10,10),width = 0.4,edgecolor=None)\n",
    "ax.yaxis.grid(True)\n",
    "ax.set_facecolor('xkcd:light gray')\n",
    "plt.legend(labels=df_df_modeshare_affectedAgent_WD_new_reduced.columns,fontsize= 10)\n",
    "plt.legend(loc='best')\n",
    "plt.xticks(rotation=0, horizontalalignment=\"center\")\n",
    "#plt.title(\"Percentage of mode choice analysis in scenarios for directly affected agents \\n\")   \n",
    "\n",
    "plt.xticks(fontsize=14)\n",
    "for spine in plt.gca().spines.values():\n",
    "    spine.set_visible(True)\n",
    "plt.yticks(fontsize=14)\n",
    "\n",
    "\n",
    "# Add this loop to add the annotations\n",
    "for p in ax.patches:\n",
    "    width, height = p.get_width(), p.get_height()\n",
    "    x, y = p.get_xy() \n",
    "    ax.annotate('{:0.2%}'.format(height), (x + 0.05, y +  0.01),fontsize=10,weight = 'bold')\n",
    "    \n",
    "plt.savefig(\"Percentage of mode choice analysis in scenarios for directly affected agents.pdf\")       "
   ]
  },
  {
   "cell_type": "markdown",
   "metadata": {},
   "source": [
    "# Filtering the time"
   ]
  },
  {
   "cell_type": "code",
   "execution_count": null,
   "metadata": {},
   "outputs": [],
   "source": [
    "for key, scenario in zip(keys,scenarios):\n",
    "\n",
    "    scenario.drop(scenario[scenario['Time_'+key] < 57600.0].index, inplace=True)\n",
    "    scenario.reset_index(inplace = True)\n",
    "\n",
    "\n",
    "df_benchmark.head()"
   ]
  },
  {
   "cell_type": "code",
   "execution_count": null,
   "metadata": {},
   "outputs": [],
   "source": [
    "modeshare_affectedAgent_after4=pd.DataFrame()\n",
    "\n",
    "for key, scenario in zip(keys,scenarios):\n",
    "    modeshare_affectedAgent_after4[key] = scenario[\"ActivityType_\"+key]\n",
    "    \n",
    "modeshare_affectedAgent_after4.head()"
   ]
  },
  {
   "cell_type": "code",
   "execution_count": null,
   "metadata": {},
   "outputs": [],
   "source": [
    "df_modeshare_affectedAgent_after4=pd.DataFrame()\n",
    "for column in modeshare_allagent_WD:\n",
    "    df_modeshare_affectedAgent_after4[column] = modeshare_affectedAgent_after4[column].value_counts()\n",
    "    \n",
    "df_modeshare_affectedAgent_after4"
   ]
  },
  {
   "cell_type": "markdown",
   "metadata": {},
   "source": [
    "df_modeshare_affectedAgent_after4=df_modeshare_affectedAgent_after4[[\"EOD\",'EWD','IncCap_100_equi','IncCap_20_equi']]"
   ]
  },
  {
   "cell_type": "markdown",
   "metadata": {},
   "source": [
    "df_modeshare_affectedAgent_after4.drop(['pt'], inplace=True)\n",
    "df_modeshare_affectedAgent_after4.to_excel(\"modeShare_after4_140Agents.xlsx\")"
   ]
  },
  {
   "cell_type": "markdown",
   "metadata": {},
   "source": [
    "plot = df_modeshare_affectedAgent_after4.plot.pie(subplots=True, figsize=(17, 8))\n",
    "plt.savefig('df_modeshare_affectedAgent_after4.pdf')"
   ]
  },
  {
   "cell_type": "markdown",
   "metadata": {},
   "source": [
    "# Plotting"
   ]
  },
  {
   "cell_type": "markdown",
   "metadata": {},
   "source": [
    "# further code"
   ]
  },
  {
   "cell_type": "code",
   "execution_count": null,
   "metadata": {},
   "outputs": [],
   "source": [
    "#iterate over rows and to change the specific columns\n",
    "for i, row in modeshare.iterrows():\n",
    "    for key in  ['EOD','EWD','start of disruption','lineTen_ca','lineTen_Schedule','IncCap','IncCap_100_equi',\n",
    "                'IncCap_20','IncCap_20_equi','line11','start of trip','no information']:\n",
    "        #if row[scenario] < row[\"Time_bench\"]:\n",
    "        if  modeshare.loc[i,key]== \"leg\":\n",
    "            #row[scenario] = row[\"Time_bench\"]\n",
    "            modeshare.loc[i,key] = \"pt\"\n",
    "    \n",
    "modeshare.head()"
   ]
  },
  {
   "cell_type": "code",
   "execution_count": null,
   "metadata": {},
   "outputs": [],
   "source": [
    "modeshare.groupby('EOD')[\"EOD\"].count()"
   ]
  },
  {
   "cell_type": "code",
   "execution_count": null,
   "metadata": {},
   "outputs": [],
   "source": [
    "df_modeshare=pd.DataFrame()\n",
    "for column in modeshare:\n",
    "    df_modeshare[column] = modeshare[column].value_counts()\n",
    "    \n",
    "df_modeshare    "
   ]
  },
  {
   "cell_type": "code",
   "execution_count": null,
   "metadata": {},
   "outputs": [],
   "source": [
    "modeshare_limites = modeshare[modeshare[\"\"]]"
   ]
  },
  {
   "cell_type": "code",
   "execution_count": null,
   "metadata": {},
   "outputs": [],
   "source": [
    "df_modeshare.to_excel(\"modeShare.xlsx\")"
   ]
  },
  {
   "cell_type": "code",
   "execution_count": null,
   "metadata": {},
   "outputs": [],
   "source": [
    "df_both = df_benchmark.append(df_reactive)\n",
    "df_both[df_both[\"personId\"] == \"1350253300\"]"
   ]
  },
  {
   "cell_type": "code",
   "execution_count": null,
   "metadata": {},
   "outputs": [],
   "source": [
    "df_merge[df_merge[\"personId\"] == \"1350253300\"]"
   ]
  }
 ],
 "metadata": {
  "kernelspec": {
   "display_name": "Python 3",
   "language": "python",
   "name": "python3"
  },
  "language_info": {
   "codemirror_mode": {
    "name": "ipython",
    "version": 3
   },
   "file_extension": ".py",
   "mimetype": "text/x-python",
   "name": "python",
   "nbconvert_exporter": "python",
   "pygments_lexer": "ipython3",
   "version": "3.5.3"
  }
 },
 "nbformat": 4,
 "nbformat_minor": 2
}
